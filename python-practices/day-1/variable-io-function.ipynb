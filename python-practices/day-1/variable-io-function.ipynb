{
 "cells": [
  {
   "cell_type": "code",
   "execution_count": 1,
   "id": "e8ad92d6",
   "metadata": {},
   "outputs": [
    {
     "name": "stdout",
     "output_type": "stream",
     "text": [
      "Output function\n"
     ]
    }
   ],
   "source": [
    "print(\"Output function\")"
   ]
  },
  {
   "cell_type": "code",
   "execution_count": 3,
   "id": "8addb58c",
   "metadata": {},
   "outputs": [
    {
     "name": "stdout",
     "output_type": "stream",
     "text": [
      "Hello & World | "
     ]
    }
   ],
   "source": [
    "print(\"Hello\",\"World\", sep=\" & \", end=\" | \")"
   ]
  },
  {
   "cell_type": "code",
   "execution_count": 1,
   "id": "ccc176f3",
   "metadata": {},
   "outputs": [
    {
     "name": "stdout",
     "output_type": "stream",
     "text": [
      "print my name\n"
     ]
    }
   ],
   "source": [
    "val = \"print my name\"\n",
    "print(val)"
   ]
  }
 ],
 "metadata": {
  "kernelspec": {
   "display_name": "Python 3 (ipykernel)",
   "language": "python",
   "name": "python3"
  },
  "language_info": {
   "codemirror_mode": {
    "name": "ipython",
    "version": 3
   },
   "file_extension": ".py",
   "mimetype": "text/x-python",
   "name": "python",
   "nbconvert_exporter": "python",
   "pygments_lexer": "ipython3",
   "version": "3.12.4"
  }
 },
 "nbformat": 4,
 "nbformat_minor": 5
}
