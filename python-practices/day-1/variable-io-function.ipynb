{
 "cells": [
  {
   "cell_type": "code",
   "execution_count": 1,
   "id": "e8ad92d6",
   "metadata": {},
   "outputs": [
    {
     "name": "stdout",
     "output_type": "stream",
     "text": [
      "Output function\n"
     ]
    }
   ],
   "source": [
    "print(\"Output function\")"
   ]
  },
  {
   "cell_type": "code",
   "execution_count": 3,
   "id": "8addb58c",
   "metadata": {},
   "outputs": [
    {
     "name": "stdout",
     "output_type": "stream",
     "text": [
      "Hello & World | "
     ]
    }
   ],
   "source": [
    "print(\"Hello\",\"World\", sep=\" & \", end=\" | \")"
   ]
  },
  {
   "cell_type": "code",
   "execution_count": 1,
   "id": "ccc176f3",
   "metadata": {},
   "outputs": [
    {
     "name": "stdout",
     "output_type": "stream",
     "text": [
      "print my name\n"
     ]
    }
   ],
   "source": [
    "val = \"print my name\"\n",
    "print(val)"
   ]
  },
  {
   "cell_type": "code",
   "execution_count": 6,
   "id": "9c052ca3",
   "metadata": {},
   "outputs": [
    {
     "name": "stdout",
     "output_type": "stream",
     "text": [
      "Hello World!\n"
     ]
    }
   ],
   "source": [
    "str1 = \"Hello \"\n",
    "str2 = \"World!\"\n",
    "\n",
    "print(str1 + str2)"
   ]
  },
  {
   "cell_type": "code",
   "execution_count": 7,
   "id": "848cd00d",
   "metadata": {},
   "outputs": [],
   "source": [
    "# multiple variables at along\n",
    "x, y, z = 100, 200, 300"
   ]
  },
  {
   "cell_type": "code",
   "execution_count": 8,
   "id": "19ba5e81",
   "metadata": {},
   "outputs": [
    {
     "data": {
      "text/plain": [
       "100"
      ]
     },
     "execution_count": 8,
     "metadata": {},
     "output_type": "execute_result"
    }
   ],
   "source": [
    "x"
   ]
  },
  {
   "cell_type": "code",
   "execution_count": 9,
   "id": "3b39c24e",
   "metadata": {},
   "outputs": [
    {
     "data": {
      "text/plain": [
       "200"
      ]
     },
     "execution_count": 9,
     "metadata": {},
     "output_type": "execute_result"
    }
   ],
   "source": [
    "y"
   ]
  },
  {
   "cell_type": "code",
   "execution_count": 10,
   "id": "8fd2283f",
   "metadata": {},
   "outputs": [
    {
     "data": {
      "text/plain": [
       "300"
      ]
     },
     "execution_count": 10,
     "metadata": {},
     "output_type": "execute_result"
    }
   ],
   "source": [
    "z"
   ]
  },
  {
   "cell_type": "markdown",
   "id": "a0e4f722",
   "metadata": {},
   "source": [
    "# local vs global variable"
   ]
  },
  {
   "cell_type": "code",
   "execution_count": 17,
   "id": "bcc2dbf8",
   "metadata": {},
   "outputs": [
    {
     "name": "stdout",
     "output_type": "stream",
     "text": [
      "100\n",
      "200\n"
     ]
    },
    {
     "ename": "NameError",
     "evalue": "name 'localVariableX' is not defined",
     "output_type": "error",
     "traceback": [
      "\u001b[0;31m---------------------------------------------------------------------------\u001b[0m",
      "\u001b[0;31mNameError\u001b[0m                                 Traceback (most recent call last)",
      "Cell \u001b[0;32mIn[17], line 14\u001b[0m\n\u001b[1;32m     12\u001b[0m \u001b[38;5;28mprint\u001b[39m(globalVariableX)\n\u001b[1;32m     13\u001b[0m func1()\n\u001b[0;32m---> 14\u001b[0m func2()\n",
      "Cell \u001b[0;32mIn[17], line 9\u001b[0m, in \u001b[0;36mfunc2\u001b[0;34m()\u001b[0m\n\u001b[1;32m      8\u001b[0m \u001b[38;5;28;01mdef\u001b[39;00m \u001b[38;5;21mfunc2\u001b[39m():\n\u001b[0;32m----> 9\u001b[0m     \u001b[38;5;28mprint\u001b[39m(localVariableX)\n",
      "\u001b[0;31mNameError\u001b[0m: name 'localVariableX' is not defined"
     ]
    }
   ],
   "source": [
    "globalVariableX = 100\n",
    "\n",
    "def func1():\n",
    "    localVariableX = 200\n",
    "    print(localVariableX)\n",
    "\n",
    "\n",
    "def func2():\n",
    "    print(localVariableX) # can't be accessed\n",
    "    \n",
    "    \n",
    "print(globalVariableX)\n",
    "func1()\n",
    "func2()\n"
   ]
  },
  {
   "cell_type": "code",
   "execution_count": null,
   "id": "73cfe5f4",
   "metadata": {},
   "outputs": [],
   "source": []
  }
 ],
 "metadata": {
  "kernelspec": {
   "display_name": "Python 3 (ipykernel)",
   "language": "python",
   "name": "python3"
  },
  "language_info": {
   "codemirror_mode": {
    "name": "ipython",
    "version": 3
   },
   "file_extension": ".py",
   "mimetype": "text/x-python",
   "name": "python",
   "nbconvert_exporter": "python",
   "pygments_lexer": "ipython3",
   "version": "3.11.7"
  }
 },
 "nbformat": 4,
 "nbformat_minor": 5
}
