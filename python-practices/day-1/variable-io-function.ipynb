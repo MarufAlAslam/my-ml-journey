{
 "cells": [
  {
   "cell_type": "code",
   "execution_count": 1,
   "id": "e8ad92d6",
   "metadata": {},
   "outputs": [
    {
     "name": "stdout",
     "output_type": "stream",
     "text": [
      "Output function\n"
     ]
    }
   ],
   "source": [
    "print(\"Output function\")"
   ]
  },
  {
   "cell_type": "code",
   "execution_count": 3,
   "id": "8addb58c",
   "metadata": {},
   "outputs": [
    {
     "name": "stdout",
     "output_type": "stream",
     "text": [
      "Hello & World | "
     ]
    }
   ],
   "source": [
    "print(\"Hello\",\"World\", sep=\" & \", end=\" | \")"
   ]
  },
  {
   "cell_type": "code",
   "execution_count": 1,
   "id": "ccc176f3",
   "metadata": {},
   "outputs": [
    {
     "name": "stdout",
     "output_type": "stream",
     "text": [
      "print my name\n"
     ]
    }
   ],
   "source": [
    "val = \"print my name\"\n",
    "print(val)"
   ]
  },
  {
   "cell_type": "code",
   "execution_count": 6,
   "id": "3453c123",
   "metadata": {},
   "outputs": [
    {
     "name": "stdout",
     "output_type": "stream",
     "text": [
      "Hello World!\n"
     ]
    }
   ],
   "source": [
    "str1 = \"Hello \"\n",
    "str2 = \"World!\"\n",
    "\n",
    "print(str1 + str2)"
   ]
  },
  {
   "cell_type": "code",
   "execution_count": null,
   "id": "49501e73",
   "metadata": {},
   "outputs": [],
   "source": []
  }
 ],
 "metadata": {
  "kernelspec": {
   "display_name": "Python 3 (ipykernel)",
   "language": "python",
   "name": "python3"
  },
  "language_info": {
   "codemirror_mode": {
    "name": "ipython",
    "version": 3
   },
   "file_extension": ".py",
   "mimetype": "text/x-python",
   "name": "python",
   "nbconvert_exporter": "python",
   "pygments_lexer": "ipython3",
   "version": "3.11.7"
  }
 },
 "nbformat": 4,
 "nbformat_minor": 5
}
